{
 "cells": [
  {
   "cell_type": "code",
   "execution_count": 110,
   "metadata": {},
   "outputs": [],
   "source": [
    "documents = [\n",
    "    {'type': 'passport', 'number': '2207 876234', 'name': 'Василий Гупкин'},\n",
    "    {'type': 'invoice', 'number': '11-2', 'name': 'Геннадий Покемонов'},\n",
    "    {'type': 'insurance', 'number': '10006', 'name': 'Аристарх Павлов'}\n",
    "    \n",
    "    \n",
    "]"
   ]
  },
  {
   "cell_type": "code",
   "execution_count": 111,
   "metadata": {},
   "outputs": [],
   "source": [
    "directories = {\n",
    "    '1': ['2207 876234', '11-2'],\n",
    "    '2': ['10006'],\n",
    "    '3': []\n",
    "}"
   ]
  },
  {
   "cell_type": "code",
   "execution_count": 118,
   "metadata": {},
   "outputs": [],
   "source": [
    "\n",
    "def main():\n",
    "    while True:\n",
    "        user_input=input ('Введите команду ')\n",
    "        if user_input=='p': search_name_for_doc()\n",
    "        elif user_input=='s': search_shelf_for_name()\n",
    "        elif user_input=='l': list_doc()\n",
    "        elif user_input=='as': new_shelf()\n",
    "        elif user_input=='d': doc_del ()\n",
    "        elif user_input=='m': doc_move()\n",
    "        elif user_input=='a': add_new_doc() \n",
    "        elif user_input=='w': break\n",
    "        else:\n",
    "            print ('Команда некорректна')\n",
    "   "
   ]
  },
  {
   "cell_type": "code",
   "execution_count": 119,
   "metadata": {},
   "outputs": [
    {
     "name": "stdout",
     "output_type": "stream",
     "text": [
      "Введите команду p\n",
      "Введите номер документа 11-2\n",
      "Данного документа в каталоге нет \n",
      "Введите команду s\n",
      "Введите номер документа 10006\n",
      "Номер полки:  3\n",
      "Введите команду l\n",
      "passport 2207 876234 Василий Гупкин\n",
      "insurance 10006 Аристарх Павлов\n",
      "pass 25 tyu\n",
      "Введите команду as\n",
      "Bведите номер новой полки 8\n",
      "{'1': ['2207 876234', '1'], '2': [], '3': ['10006'], '6': [], '8': []}\n",
      "Введите команду d\n",
      "Введите номер документа для удаления 10006\n",
      "[{'type': 'passport', 'number': '2207 876234', 'name': 'Василий Гупкин'}, {'type': 'pass', 'number': '25', 'name': 'tyu'}]\n",
      "{'1': ['2207 876234', '1'], '2': [], '3': [], '6': [], '8': []}\n",
      "Введите команду m\n",
      "Введите номер документа 2207 876234\n",
      "Введите номер полки 2\n",
      "{'1': ['1'], '2': ['2207 876234'], '3': [], '6': [], '8': []}\n",
      "Введите команду a\n",
      "введите номер полки3\n",
      "введите номер документа25\n",
      "введите тип документаpass\n",
      "введите имя владельцаuio\n",
      "[{'type': 'passport', 'number': '2207 876234', 'name': 'Василий Гупкин'}, {'type': 'pass', 'number': '25', 'name': 'tyu'}, {'type': 'pass', 'number': '25', 'name': 'uio'}]\n",
      "{'1': ['1'], '2': ['2207 876234'], '3': ['25'], '6': [], '8': []}\n",
      "Введите команду w\n"
     ]
    }
   ],
   "source": [
    "main()"
   ]
  },
  {
   "cell_type": "code",
   "execution_count": 12,
   "metadata": {},
   "outputs": [],
   "source": [
    "#Задание 1\n",
    "#p – people – команда, которая спросит номер документа и выведет имя человека, которому он принадлежит;\n",
    "def search_name_for_doc():\n",
    "    number_doc = []\n",
    "    for doc in documents:\n",
    "        number_doc.append(doc['number'])\n",
    "   \n",
    "    number = input('Введите номер документа ')\n",
    "    if number in number_doc:\n",
    "        for doc in documents:\n",
    "            if number == doc['number']:\n",
    "                result = (doc['name'])\n",
    "    else: result= 'Данного документа в каталоге нет '\n",
    "    print (result)"
   ]
  },
  {
   "cell_type": "code",
   "execution_count": 14,
   "metadata": {},
   "outputs": [
    {
     "name": "stdout",
     "output_type": "stream",
     "text": [
      "Введите номер документа 11-2\n",
      "Геннадий Покемонов\n"
     ]
    }
   ],
   "source": [
    "search_name_for_doc()"
   ]
  },
  {
   "cell_type": "code",
   "execution_count": 16,
   "metadata": {},
   "outputs": [],
   "source": [
    "#Задание 2\n",
    "#s – shelf – команда, которая спросит номер документа и выведет номер полки, на которой он находится\n",
    "def search_shelf_for_name():\n",
    "    number_doc = []\n",
    "    for doc in documents:\n",
    "        number_doc.append(doc['number'])\n",
    "       \n",
    "    number = input('Введите номер документа ')\n",
    "    if number in number_doc:\n",
    "        for key,value in directories.items():\n",
    "            for d in value:\n",
    "                if number == d:\n",
    "                    print(f'Номер полки: ',key)\n",
    "    else: print ('Данного документа в каталоге нет ')\n",
    "  "
   ]
  },
  {
   "cell_type": "code",
   "execution_count": 18,
   "metadata": {},
   "outputs": [
    {
     "name": "stdout",
     "output_type": "stream",
     "text": [
      "Введите номер документа 11-2\n",
      "Номер полки:  1\n"
     ]
    }
   ],
   "source": [
    "search_shelf_for_name()\n"
   ]
  },
  {
   "cell_type": "code",
   "execution_count": 19,
   "metadata": {},
   "outputs": [],
   "source": [
    "#Задание 3\n",
    "#l – list – команда, которая выведет список всех документов в формате\n",
    "def list_doc():\n",
    "    for name in documents:\n",
    "        print (name['type'],name ['number'],str(name['name']))\n",
    "      "
   ]
  },
  {
   "cell_type": "code",
   "execution_count": 20,
   "metadata": {},
   "outputs": [
    {
     "name": "stdout",
     "output_type": "stream",
     "text": [
      "passport 2207 876234 Василий Гупкин\n",
      "invoice 11-2 Геннадий Покемонов\n",
      "insurance 10006 Аристарх Павлов\n"
     ]
    }
   ],
   "source": [
    "list_doc()"
   ]
  },
  {
   "cell_type": "code",
   "execution_count": 23,
   "metadata": {},
   "outputs": [],
   "source": [
    "#задание 4\n",
    "#as – add shelf – команда, которая спросит номер новой полки и добавит ее в перечень.\n",
    "#Предусмотрите случай, когда пользователь добавляет полку, которая уже существует\n",
    "def new_shelf():\n",
    "    shelfs = list(directories.keys())    \n",
    "    new_shelf= input('Bведите номер новой полки ')\n",
    "    if new_shelf not in shelfs:\n",
    "        directories[new_shelf]=[]\n",
    "    else:\n",
    "        print( 'Такая полка уже существует')\n",
    "    print (directories)\n"
   ]
  },
  {
   "cell_type": "code",
   "execution_count": 24,
   "metadata": {},
   "outputs": [
    {
     "name": "stdout",
     "output_type": "stream",
     "text": [
      "Bведите номер новой полки 1\n",
      "Такая полка уже существует\n",
      "{'1': ['2207 876234', '11-2'], '2': ['10006'], '3': [], '8': []}\n"
     ]
    }
   ],
   "source": [
    "new_shelf()"
   ]
  },
  {
   "cell_type": "code",
   "execution_count": 114,
   "metadata": {},
   "outputs": [],
   "source": [
    "#задание 5\n",
    "\n",
    "def doc_del ():\n",
    "    number_doc = []\n",
    "    for doc in documents:\n",
    "        number_doc.append(doc['number'])\n",
    "    \n",
    "    new_number_doc = number_doc\n",
    "    doc_num = input('Введите номер документа для удаления ')\n",
    "    if doc_num in new_number_doc:\n",
    "        del_ind = 0\n",
    "        for name in documents:\n",
    "            if doc_num == (name['number']):\n",
    "                del(documents[del_ind])\n",
    "                del(new_number_doc[del_ind])\n",
    "                for key, value in directories.items():\n",
    "                    if doc_num in value:\n",
    "                        del(value[value.index(doc_num)])\n",
    "            else: del_ind += 1            \n",
    "    else: print('Данного документа нет в каталоге')\n",
    "    print (documents)\n",
    "    print (directories)"
   ]
  },
  {
   "cell_type": "code",
   "execution_count": 115,
   "metadata": {},
   "outputs": [
    {
     "name": "stdout",
     "output_type": "stream",
     "text": [
      "Введите номер документа для удаления 1\n",
      "Данного документа нет в каталоге\n",
      "[{'type': 'passport', 'number': '2207 876234', 'name': 'Василий Гупкин'}, {'type': 'insurance', 'number': '10006', 'name': 'Аристарх Павлов'}, {'type': 'pass', 'number': '25', 'name': 'tyu'}]\n",
      "{'1': ['2207 876234', '1'], '2': [], '3': ['10006'], '6': []}\n"
     ]
    }
   ],
   "source": [
    "doc_del ()\n"
   ]
  },
  {
   "cell_type": "code",
   "execution_count": 117,
   "metadata": {},
   "outputs": [],
   "source": [
    "#задание 6\n",
    "#m – move – команда, которая спросит номер документа и целевую полку и переместит его с текущей полки на целевую. \n",
    "#Корректно обработайте кейсы, когда пользователь пытается переместить несуществующий документ или\n",
    "# переместить документ на несуществующую полку;\n",
    "\n",
    "def doc_move():\n",
    "    number_doc = []\n",
    "    for doc in documents:\n",
    "        number_doc.append(doc['number'])\n",
    "        \n",
    "    doc_num = input('Введите номер документа ')\n",
    "    shelf = input('Введите номер полки ')\n",
    "\n",
    "    if doc_num in number_doc and shelf in shelfs:\n",
    "        for key ,value in directories.items():\n",
    "            #print(value)\n",
    "            if doc_num in value:\n",
    "                del(value[value.index(doc_num)])\n",
    "       \n",
    "            if shelf in key:\n",
    "                value.append(doc_num)\n",
    "    else:\n",
    "        print ('Неверный номер документа или полки')\n",
    "    print(directories) "
   ]
  },
  {
   "cell_type": "code",
   "execution_count": 65,
   "metadata": {},
   "outputs": [
    {
     "name": "stdout",
     "output_type": "stream",
     "text": [
      "Введите номер документа 10006\n",
      "Введите номер полки1\n",
      "{'1': ['2207 876234', '10006'], '2': ['11-2'], '3': []}\n"
     ]
    }
   ],
   "source": [
    "doc_move()\n",
    "print(directories) \n"
   ]
  },
  {
   "cell_type": "code",
   "execution_count": 116,
   "metadata": {},
   "outputs": [],
   "source": [
    "#Задание 7\n",
    "#a – add – команда, которая добавит новый документ в каталог и в перечень полок, спросив его номер, тип, \n",
    "#имя владельца и номер полки, на котором он будет храниться. \n",
    "#Корректно обработайте ситуацию, когда пользователь будет пытаться добавить документ на несуществующую полку.\n",
    "def add_new_doc():\n",
    "    shelfs = list(directories.keys()) \n",
    "    new_sh = input('введите номер полки')\n",
    "    \n",
    "    if new_sh in shelfs:\n",
    "        new_doc = input('введите номер документа')\n",
    "        new_type = input('введите тип документа')\n",
    "        new_name = input('введите имя владельца')\n",
    "        documents.append({'type':new_type, 'number':new_doc,'name':new_name})\n",
    "        for key,value in directories.items():\n",
    "            if key == new_sh:                 \n",
    "                value.append(new_doc)       \n",
    "    else:\n",
    "        print ('данной полки не существует')\n",
    "    print (documents)\n",
    "    print (directories)"
   ]
  },
  {
   "cell_type": "code",
   "execution_count": 109,
   "metadata": {},
   "outputs": [
    {
     "name": "stdout",
     "output_type": "stream",
     "text": [
      "введите номер полки2\n",
      "введите номер документа90\n",
      "введите тип документаty\n",
      "введите имя владельцаiu\n",
      "{'1': ['2207 876234', '11-2', '1'], '2': ['10006', '2'], '3': []}\n"
     ]
    }
   ],
   "source": [
    "add_new_doc()"
   ]
  },
  {
   "cell_type": "code",
   "execution_count": null,
   "metadata": {},
   "outputs": [],
   "source": []
  }
 ],
 "metadata": {
  "kernelspec": {
   "display_name": "Python 3",
   "language": "python",
   "name": "python3"
  },
  "language_info": {
   "codemirror_mode": {
    "name": "ipython",
    "version": 3
   },
   "file_extension": ".py",
   "mimetype": "text/x-python",
   "name": "python",
   "nbconvert_exporter": "python",
   "pygments_lexer": "ipython3",
   "version": "3.7.6"
  }
 },
 "nbformat": 4,
 "nbformat_minor": 4
}
