{
 "cells": [
  {
   "cell_type": "code",
   "execution_count": 68,
   "metadata": {},
   "outputs": [],
   "source": [
    "#Задание 1\n",
    "\n",
    "geo_logs = [\n",
    "    {'visit1': ['Москва', 'Россия']},\n",
    "    {'visit2': ['Дели', 'Индия']},\n",
    "    {'visit3': ['Владимир', 'Россия']},\n",
    "    {'visit4': ['Лиссабон', 'Португалия']},\n",
    "    {'visit5': ['Париж', 'Франция']},\n",
    "    {'visit6': ['Лиссабон', 'Португалия']},\n",
    "    {'visit7': ['Тула', 'Россия']},\n",
    "    {'visit8': ['Тула', 'Россия']},\n",
    "    {'visit9': ['Курск', 'Россия']},\n",
    "    {'visit10': ['Архангельск', 'Россия']}]\n"
   ]
  },
  {
   "cell_type": "code",
   "execution_count": 262,
   "metadata": {},
   "outputs": [
    {
     "name": "stdout",
     "output_type": "stream",
     "text": [
      "[{'visit1': ['Москва', 'Россия']}, {'visit3': ['Владимир', 'Россия']}, {'visit7': ['Тула', 'Россия']}, {'visit8': ['Тула', 'Россия']}, {'visit9': ['Курск', 'Россия']}, {'visit10': ['Архангельск', 'Россия']}]\n"
     ]
    }
   ],
   "source": [
    "#Определяем значения ключей, которые должны остаться в списке \n",
    "filtered_geo = []\n",
    "for visit in geo_logs:\n",
    "    for city in visit.values():\n",
    "        if city[1] != 'Россия':\n",
    "             filtered_geo.append(visit.keys())\n",
    "                \n",
    "#Определяем по ключу индексы элементов, которые должны остаться в писке\n",
    "index = []\n",
    "for visit_key in geo_logs:\n",
    "    if visit_key.keys() in filtered_geo:\n",
    "         index.append(geo_logs.index(visit_key))\n",
    "       \n",
    "geo_logs = [y for i, y in enumerate(geo_logs) if i not in index]\n",
    "print (geo_logs)\n"
   ]
  },
  {
   "cell_type": "code",
   "execution_count": 83,
   "metadata": {},
   "outputs": [],
   "source": [
    "#Задание 2\n",
    "\n",
    "ids = {'user1': [213, 213, 213, 15, 213], \n",
    "       'user2': [54, 54, 119, 119, 119], \n",
    "       'user3': [213, 98, 98, 35]}"
   ]
  },
  {
   "cell_type": "code",
   "execution_count": 265,
   "metadata": {},
   "outputs": [
    {
     "name": "stdout",
     "output_type": "stream",
     "text": [
      "[98, 35, 15, 213, 54, 119]\n"
     ]
    }
   ],
   "source": [
    "uniq_num = []\n",
    "for ids_num in ids.values():\n",
    "        for num in ids_num:\n",
    "            uniq_num.append(num)\n",
    "print(list(set(uniq_num)))\n"
   ]
  },
  {
   "cell_type": "code",
   "execution_count": 126,
   "metadata": {},
   "outputs": [],
   "source": [
    "#Задание 3\n",
    "queries = [\n",
    "    'смотреть сериалы онлайн',\n",
    "    'новости спорта',\n",
    "    'афиша кино',\n",
    "    'курс доллара',\n",
    "    'сериалы этим летом',\n",
    "    'курс по питону',\n",
    "    'сериалы про спорт',\n",
    "]"
   ]
  },
  {
   "cell_type": "code",
   "execution_count": 285,
   "metadata": {},
   "outputs": [
    {
     "name": "stdout",
     "output_type": "stream",
     "text": [
      "кол-во слов 2 42.857142857142854\n",
      "кол-во слов 3 57.14285714285714\n"
     ]
    }
   ],
   "source": [
    "#Определяем, сколько слов в каждом элементе списка\n",
    "word_list = []\n",
    "for word in queries:\n",
    "    q = 1\n",
    "    for space in word:\n",
    "        if space == ' ':\n",
    "            q += 1\n",
    "    word_list.append(q)\n",
    "uniq_word = list (set (word_list))\n",
    "\n",
    "#Определяем, сколько сколько раз встречается кол-во слов\n",
    "for w in uniq_word:\n",
    "    q=0\n",
    "    for y in word_list:\n",
    "        if w == y:\n",
    "            q+= 1\n",
    "    print ('кол-во слов',w,q / len(word_list) * 100)\n",
    "    \n"
   ]
  },
  {
   "cell_type": "code",
   "execution_count": 287,
   "metadata": {},
   "outputs": [],
   "source": [
    "#Задание 4\n",
    "\n",
    "stats = {'facebook': 55, 'yandex': 120, 'vk': 115, 'google': 99, 'email': 42, 'ok': 98}"
   ]
  },
  {
   "cell_type": "code",
   "execution_count": 289,
   "metadata": {},
   "outputs": [
    {
     "name": "stdout",
     "output_type": "stream",
     "text": [
      "yandex\n"
     ]
    }
   ],
   "source": [
    "q = -1\n",
    "z = (max (list (stats.values())))\n",
    "for y in stats.values():\n",
    "    q += 1\n",
    "    if y == z:\n",
    "       # print('y',y)\n",
    "       #print('q',q)\n",
    "        for i, person in enumerate(stats):\n",
    "            #print('i',i)\n",
    "            if i == q:\n",
    "                print(person)        \n",
    "        "
   ]
  },
  {
   "cell_type": "code",
   "execution_count": 237,
   "metadata": {},
   "outputs": [],
   "source": [
    "#Задание 5\n",
    "info=['2018-01-01', 'yandex', 'cpc', 100]"
   ]
  },
  {
   "cell_type": "code",
   "execution_count": 249,
   "metadata": {},
   "outputs": [
    {
     "name": "stdout",
     "output_type": "stream",
     "text": [
      "{'2018-01-01': {'yandex': {100: 'cpc'}}}\n"
     ]
    }
   ],
   "source": [
    "info_new = {info[-1]:info[-2]}\n",
    "info_value = info[:-2]\n",
    "info_value.reverse()\n",
    "\n",
    "for key in info_value:\n",
    "    info_new = {key:info_new}\n",
    "print (info_new)\n",
    "    \n"
   ]
  }
 ],
 "metadata": {
  "kernelspec": {
   "display_name": "Python 3",
   "language": "python",
   "name": "python3"
  },
  "language_info": {
   "codemirror_mode": {
    "name": "ipython",
    "version": 3
   },
   "file_extension": ".py",
   "mimetype": "text/x-python",
   "name": "python",
   "nbconvert_exporter": "python",
   "pygments_lexer": "ipython3",
   "version": "3.7.6"
  }
 },
 "nbformat": 4,
 "nbformat_minor": 4
}
