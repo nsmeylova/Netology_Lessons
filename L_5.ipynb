{
 "cells": [
  {
   "cell_type": "code",
   "execution_count": 2,
   "metadata": {},
   "outputs": [],
   "source": [
    "documents = [\n",
    "    {'type': 'passport', 'number': '2207 876234', 'name': 'Василий Гупкин'},\n",
    "    {'type': 'invoice', 'number': '11-2', 'name': 'Геннадий Покемонов'},\n",
    "    {'type': 'insurance', 'number': '10006', 'name': 'Аристарх Павлов'}\n",
    "    \n",
    "    \n",
    "]"
   ]
  },
  {
   "cell_type": "code",
   "execution_count": 3,
   "metadata": {},
   "outputs": [],
   "source": [
    "directories = {\n",
    "    '1': ['2207 876234', '11-2'],\n",
    "    '2': ['10006'],\n",
    "    '3': []\n",
    "}"
   ]
  },
  {
   "cell_type": "code",
   "execution_count": 4,
   "metadata": {},
   "outputs": [
    {
     "name": "stdout",
     "output_type": "stream",
     "text": [
      "['2207 876234', '11-2', '10006']\n",
      "['1', '2', '3']\n"
     ]
    }
   ],
   "source": [
    "#Список документов\n",
    "number_doc=[]\n",
    "for doc in documents:\n",
    "    number_doc.append(doc\n",
    "                      ['number'])\n",
    "print (number_doc)\n",
    "#Список полок\n",
    "shelfs=list(directories.keys())\n",
    "print (shelfs)"
   ]
  },
  {
   "cell_type": "code",
   "execution_count": 35,
   "metadata": {},
   "outputs": [],
   "source": [
    "\n",
    "def main():\n",
    "    while True:\n",
    "        user_input=input ('Введите команду ')\n",
    "        if user_input=='p': search_name_for_doc()\n",
    "        elif user_input=='s': search_shelf_for_name()\n",
    "        elif user_input=='l': list_doc()\n",
    "        elif user_input=='as': new_shelf()\n",
    "        elif user_input=='d': doc_del ()\n",
    "        elif user_input=='m': doc_move()\n",
    "        elif user_input=='a': add_new_doc() \n",
    "        elif user_input=='w': break\n",
    "        else:\n",
    "            print ('Команда некорректна')\n",
    "   "
   ]
  },
  {
   "cell_type": "code",
   "execution_count": 36,
   "metadata": {},
   "outputs": [
    {
     "name": "stdout",
     "output_type": "stream",
     "text": [
      "Введите команду p\n",
      "Введите номер документа 2003\n",
      "Данного документа в каталоге нет \n",
      "Введите команду s\n",
      "Введите номер документа 11-2\n",
      "Номер полки:  1\n",
      "Введите команду l\n"
     ]
    },
    {
     "ename": "NameError",
     "evalue": "name 'list_doc' is not defined",
     "output_type": "error",
     "traceback": [
      "\u001b[1;31m---------------------------------------------------------------------------\u001b[0m",
      "\u001b[1;31mNameError\u001b[0m                                 Traceback (most recent call last)",
      "\u001b[1;32m<ipython-input-36-263240bbee7e>\u001b[0m in \u001b[0;36m<module>\u001b[1;34m\u001b[0m\n\u001b[1;32m----> 1\u001b[1;33m \u001b[0mmain\u001b[0m\u001b[1;33m(\u001b[0m\u001b[1;33m)\u001b[0m\u001b[1;33m\u001b[0m\u001b[1;33m\u001b[0m\u001b[0m\n\u001b[0m",
      "\u001b[1;32m<ipython-input-35-7cb5ad72ee79>\u001b[0m in \u001b[0;36mmain\u001b[1;34m()\u001b[0m\n\u001b[0;32m      4\u001b[0m         \u001b[1;32mif\u001b[0m \u001b[0muser_input\u001b[0m\u001b[1;33m==\u001b[0m\u001b[1;34m'p'\u001b[0m\u001b[1;33m:\u001b[0m \u001b[0msearch_name_for_doc\u001b[0m\u001b[1;33m(\u001b[0m\u001b[1;33m)\u001b[0m\u001b[1;33m\u001b[0m\u001b[1;33m\u001b[0m\u001b[0m\n\u001b[0;32m      5\u001b[0m         \u001b[1;32melif\u001b[0m \u001b[0muser_input\u001b[0m\u001b[1;33m==\u001b[0m\u001b[1;34m's'\u001b[0m\u001b[1;33m:\u001b[0m \u001b[0msearch_shelf_for_name\u001b[0m\u001b[1;33m(\u001b[0m\u001b[1;33m)\u001b[0m\u001b[1;33m\u001b[0m\u001b[1;33m\u001b[0m\u001b[0m\n\u001b[1;32m----> 6\u001b[1;33m         \u001b[1;32melif\u001b[0m \u001b[0muser_input\u001b[0m\u001b[1;33m==\u001b[0m\u001b[1;34m'l'\u001b[0m\u001b[1;33m:\u001b[0m \u001b[0mlist_doc\u001b[0m\u001b[1;33m(\u001b[0m\u001b[1;33m)\u001b[0m\u001b[1;33m\u001b[0m\u001b[1;33m\u001b[0m\u001b[0m\n\u001b[0m\u001b[0;32m      7\u001b[0m         \u001b[1;32melif\u001b[0m \u001b[0muser_input\u001b[0m\u001b[1;33m==\u001b[0m\u001b[1;34m'as'\u001b[0m\u001b[1;33m:\u001b[0m \u001b[0mnew_shelf\u001b[0m\u001b[1;33m(\u001b[0m\u001b[1;33m)\u001b[0m\u001b[1;33m\u001b[0m\u001b[1;33m\u001b[0m\u001b[0m\n\u001b[0;32m      8\u001b[0m         \u001b[1;32melif\u001b[0m \u001b[0muser_input\u001b[0m\u001b[1;33m==\u001b[0m\u001b[1;34m'd'\u001b[0m\u001b[1;33m:\u001b[0m \u001b[0mdoc_del\u001b[0m \u001b[1;33m(\u001b[0m\u001b[1;33m)\u001b[0m\u001b[1;33m\u001b[0m\u001b[1;33m\u001b[0m\u001b[0m\n",
      "\u001b[1;31mNameError\u001b[0m: name 'list_doc' is not defined"
     ]
    }
   ],
   "source": [
    "main()"
   ]
  },
  {
   "cell_type": "code",
   "execution_count": 27,
   "metadata": {},
   "outputs": [],
   "source": [
    "#Задание 1\n",
    "#p – people – команда, которая спросит номер документа и выведет имя человека, которому он принадлежит;\n",
    "def search_name_for_doc():\n",
    "    number = input('Введите номер документа ')\n",
    "    if number in number_doc:\n",
    "        for doc in documents:\n",
    "            if number == doc['number']:\n",
    "                result = (doc['name'])\n",
    "    else: result= 'Данного документа в каталоге нет '\n",
    "    print (result)"
   ]
  },
  {
   "cell_type": "code",
   "execution_count": 10,
   "metadata": {},
   "outputs": [
    {
     "name": "stdout",
     "output_type": "stream",
     "text": [
      "Введите номер документа 2003\n",
      "Данного документа в каталоге нет \n"
     ]
    }
   ],
   "source": [
    "search_name_for_doc()"
   ]
  },
  {
   "cell_type": "code",
   "execution_count": 32,
   "metadata": {},
   "outputs": [],
   "source": [
    "#Задание 2\n",
    "#s – shelf – команда, которая спросит номер документа и выведет номер полки, на которой он находится\n",
    "def search_shelf_for_name():\n",
    "    number = input('Введите номер документа ')\n",
    "    for key,value in directories.items():\n",
    "        for d in value:\n",
    "            if number == d:\n",
    "                print(f'Номер полки: ',key)\n"
   ]
  },
  {
   "cell_type": "code",
   "execution_count": 34,
   "metadata": {},
   "outputs": [
    {
     "name": "stdout",
     "output_type": "stream",
     "text": [
      "Введите номер документа 256\n"
     ]
    }
   ],
   "source": [
    "search_shelf_for_name()\n"
   ]
  },
  {
   "cell_type": "code",
   "execution_count": 26,
   "metadata": {},
   "outputs": [],
   "source": [
    "#Задание 3\n",
    "#l – list – команда, которая выведет список всех документов в формате\n",
    "def list_doc():\n",
    "    for name in documents:\n",
    "        print (name['type'],name ['number'],str(name['name']))\n",
    "      "
   ]
  },
  {
   "cell_type": "code",
   "execution_count": 27,
   "metadata": {},
   "outputs": [
    {
     "name": "stdout",
     "output_type": "stream",
     "text": [
      "passport 2207 876234 Василий Гупкин\n",
      "invoice 11-2 Геннадий Покемонов\n",
      "insurance 10006 Аристарх Павлов\n"
     ]
    }
   ],
   "source": [
    "list_doc()"
   ]
  },
  {
   "cell_type": "code",
   "execution_count": 41,
   "metadata": {},
   "outputs": [],
   "source": [
    "#задание 4\n",
    "#as – add shelf – команда, которая спросит номер новой полки и добавит ее в перечень.\n",
    "#Предусмотрите случай, когда пользователь добавляет полку, которая уже существует\n",
    "def new_shelf():\n",
    "    new_shelf= input('Bведите номер новой полки ')\n",
    "    if new_shelf not in shelfs:\n",
    "        directories[new_shelf]=[]\n",
    "    else:\n",
    "        print( 'Такая полка уже существует')\n",
    "    print (directories)\n"
   ]
  },
  {
   "cell_type": "code",
   "execution_count": 34,
   "metadata": {},
   "outputs": [
    {
     "name": "stdout",
     "output_type": "stream",
     "text": [
      "Bведите номер новой полки 8\n",
      "{'1': ['2207 876234', '11-2'], '2': ['10006'], '3': [], '5': [], '8': []}\n"
     ]
    }
   ],
   "source": [
    "new_shelf()"
   ]
  },
  {
   "cell_type": "code",
   "execution_count": 40,
   "metadata": {},
   "outputs": [],
   "source": [
    "#Задание 5\n",
    "#d – delete – команда, которая спросит номер документа и удалит его из каталога и из перечня полок. \n",
    "#Предусмотрите сценарий, когда пользователь вводит несуществующий документ;\n",
    "\n",
    "def doc_del ():\n",
    "    new_number_doc = number_doc\n",
    "    doc_num = input('Введите номер документа для удаления ')\n",
    "    if doc_num in new_number_doc:\n",
    "        del_ind = 0\n",
    "        for name in documents:\n",
    "            if doc_num == (name['number']):\n",
    "                del(documents[del_ind])\n",
    "                del(new_number_doc[del_ind])\n",
    "            else: del_ind += 1\n",
    "    else: print('Данного документа нет в каталоге')\n",
    "    "
   ]
  },
  {
   "cell_type": "code",
   "execution_count": 38,
   "metadata": {},
   "outputs": [
    {
     "name": "stdout",
     "output_type": "stream",
     "text": [
      "Введите номер документа для удаления 369\n",
      "Данного документа нет в каталоге\n",
      "[{'type': 'passport', 'number': '2207 876234', 'name': 'Василий Гупкин'}, {'type': 'insurance', 'number': '10006', 'name': 'Аристарх Павлов'}]\n"
     ]
    }
   ],
   "source": [
    "doc_del ()\n",
    "print (documents)"
   ]
  },
  {
   "cell_type": "code",
   "execution_count": 39,
   "metadata": {},
   "outputs": [],
   "source": [
    "#задание 6\n",
    "#m – move – команда, которая спросит номер документа и целевую полку и переместит его с текущей полки на целевую. \n",
    "#Корректно обработайте кейсы, когда пользователь пытается переместить несуществующий документ или\n",
    "# переместить документ на несуществующую полку;\n",
    "\n",
    "def doc_move():\n",
    "    doc_num = input('Введите номер документа ')\n",
    "    shelf = input('Введите номер полки')\n",
    "\n",
    "    if doc_num in number_doc and shelf in shelfs:\n",
    "        for key ,value in directories.items():\n",
    "            #print(value)\n",
    "            if doc_num in value:\n",
    "                del(value[value.index(doc_num)])\n",
    "       \n",
    "            if shelf in key:\n",
    "                value.append(doc_num)\n",
    "    else:\n",
    "        print ('Неверный номер документа или полки')\n",
    "    "
   ]
  },
  {
   "cell_type": "code",
   "execution_count": 38,
   "metadata": {},
   "outputs": [
    {
     "ename": "NameError",
     "evalue": "name 'doc_move' is not defined",
     "output_type": "error",
     "traceback": [
      "\u001b[1;31m---------------------------------------------------------------------------\u001b[0m",
      "\u001b[1;31mNameError\u001b[0m                                 Traceback (most recent call last)",
      "\u001b[1;32m<ipython-input-38-ac9ddebd12fd>\u001b[0m in \u001b[0;36m<module>\u001b[1;34m\u001b[0m\n\u001b[1;32m----> 1\u001b[1;33m \u001b[0mdoc_move\u001b[0m\u001b[1;33m(\u001b[0m\u001b[1;33m)\u001b[0m\u001b[1;33m\u001b[0m\u001b[1;33m\u001b[0m\u001b[0m\n\u001b[0m\u001b[0;32m      2\u001b[0m \u001b[0mprint\u001b[0m\u001b[1;33m(\u001b[0m\u001b[0mdirectories\u001b[0m\u001b[1;33m)\u001b[0m\u001b[1;33m\u001b[0m\u001b[1;33m\u001b[0m\u001b[0m\n",
      "\u001b[1;31mNameError\u001b[0m: name 'doc_move' is not defined"
     ]
    }
   ],
   "source": [
    "doc_move()\n",
    "print(directories) \n"
   ]
  },
  {
   "cell_type": "code",
   "execution_count": 37,
   "metadata": {},
   "outputs": [],
   "source": [
    "#Задание 7\n",
    "#a – add – команда, которая добавит новый документ в каталог и в перечень полок, спросив его номер, тип, \n",
    "#имя владельца и номер полки, на котором он будет храниться. \n",
    "#Корректно обработайте ситуацию, когда пользователь будет пытаться добавить документ на несуществующую полку.\n",
    "def add_new_doc():\n",
    "    new_sh = input('введите номер полки')\n",
    "    if new_sh in shelfs:\n",
    "        new_doc = input('введите номер документа')\n",
    "        new_type = input('введите тип документа')\n",
    "        new_name = input('введите имя владельца')\n",
    "        documents.append({'type':new_type, 'number':new_doc,'name':new_name})\n",
    "        directories[new_sh]=new_sh\n",
    "    else:\n",
    "        print ('данной полки не существует')\n"
   ]
  },
  {
   "cell_type": "code",
   "execution_count": 51,
   "metadata": {},
   "outputs": [
    {
     "name": "stdout",
     "output_type": "stream",
     "text": [
      "введите номер полки1\n",
      "введите номер документа2003\n",
      "введите тип документаPASS\n",
      "введите имя владельцаИван\n",
      "[{'type': 'passport', 'number': '2207 876234', 'name': 'Василий Гупкин'}, {'type': 'insurance', 'number': '10006', 'name': 'Аристарх Павлов'}, {'type': 'PASS', 'number': '2003', 'name': 'Иван'}]\n",
      "{'1': '1', '2': [], '3': [], '5': [], '8': []}\n"
     ]
    }
   ],
   "source": [
    "add_new_doc()\n",
    "print (documents)\n",
    "print (directories)"
   ]
  },
  {
   "cell_type": "code",
   "execution_count": null,
   "metadata": {},
   "outputs": [],
   "source": []
  }
 ],
 "metadata": {
  "kernelspec": {
   "display_name": "Python 3",
   "language": "python",
   "name": "python3"
  },
  "language_info": {
   "codemirror_mode": {
    "name": "ipython",
    "version": 3
   },
   "file_extension": ".py",
   "mimetype": "text/x-python",
   "name": "python",
   "nbconvert_exporter": "python",
   "pygments_lexer": "ipython3",
   "version": "3.7.6"
  }
 },
 "nbformat": 4,
 "nbformat_minor": 4
}
