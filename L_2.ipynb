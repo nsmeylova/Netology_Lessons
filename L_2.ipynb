{
 "cells": [
  {
   "cell_type": "code",
   "execution_count": 2,
   "metadata": {},
   "outputs": [
    {
     "data": {
      "text/plain": [
       "True"
      ]
     },
     "execution_count": 2,
     "metadata": {},
     "output_type": "execute_result"
    }
   ],
   "source": [
    "#Задание 1\n",
    "\n",
    "long_phrase = 'Насколько проще было бы писать программы, если бы не заказчики'\n",
    "short_phrase = '640Кб должно хватить для любых задач. Билл Гейтс (по легенде)'\n",
    "len (long_phrase) > len (short_phrase)"
   ]
  },
  {
   "cell_type": "code",
   "execution_count": 5,
   "metadata": {},
   "outputs": [
    {
     "name": "stdout",
     "output_type": "stream",
     "text": [
      "Введите объем файла в байтах 12364489\n",
      "Объем файла равен 11.79 Мб\n"
     ]
    }
   ],
   "source": [
    "#Задание2\n",
    "\n",
    "number = int (input('Введите объем файла в байтах '))\n",
    "number2 = round(number / (2**20),2)\n",
    "print ('Объем файла равен',number2,'Мб')"
   ]
  },
  {
   "cell_type": "code",
   "execution_count": 4,
   "metadata": {},
   "outputs": [
    {
     "name": "stdout",
     "output_type": "stream",
     "text": [
      "Введите название месяца рождения март\n",
      "Введите дату рождения 20\n",
      "Рыбы\n"
     ]
    }
   ],
   "source": [
    "#Задание 3\n",
    "\n",
    "month = input ('Введите название месяца рождения ')\n",
    "date = int(input ('Введите дату рождения '))\n",
    "if (month == 'март' and date > 20) or (month == 'апрель' and date < 21):\n",
    "     print('Овен')\n",
    "elif (month == 'апрель' and date > 20) or (month == 'май' and date < 21):\n",
    "     print('Телец')\n",
    "elif (month == 'апрель' and date > 20) or (month == 'май' and date < 21):\n",
    "     print('Телец')\n",
    "elif (month == 'май' and date > 20) or (month == 'июнь' and date < 21):\n",
    "     print('Близнецы')\n",
    "elif (month == 'июнь' and date > 20) or (month == 'июль' and date < 23):\n",
    "     print('Рак')\n",
    "elif (month == 'июль' and date > 22) or (month == 'август' and date < 23):\n",
    "     print('Лев')\n",
    "elif (month == 'август' and date > 22) or (month == 'сентябрь' and date < 23):\n",
    "     print('Дева')\n",
    "elif (month == 'сентябрь' and date > 22) or (month == 'октябрь' and date < 23):\n",
    "     print('Весы')  \n",
    "elif (month == 'октябрь' and date > 22) or (month == 'ноябрь' and date < 23):\n",
    "     print('Скорпион')  \n",
    "elif (month == 'ноябрь' and date > 22) or (month == 'декабрь' and date < 22):\n",
    "     print('Стрелец')  \n",
    "elif (month == 'декабрь' and date > 23) or (month == 'январь' and date < 20):\n",
    "     print('Козерог')  \n",
    "elif (month == 'январь' and date > 19) or (month == 'февраль' and date < 20):\n",
    "     print('Водолей')  \n",
    "else:\n",
    "     print('Рыбы')  "
   ]
  },
  {
   "cell_type": "code",
   "execution_count": 1,
   "metadata": {},
   "outputs": [
    {
     "name": "stdout",
     "output_type": "stream",
     "text": [
      "Введите з/п в месяц 236\n",
      "Введите сколько процентов уходит на ипотеку 10\n",
      "Введите сколько процентов уходит на жизнь 20\n",
      "Введите количество премий за год 5\n",
      "На ипотеку было потрачено:  283.2  руб.  Было накоплено:  2572.4  руб. \n"
     ]
    }
   ],
   "source": [
    "#Задание4\n",
    "\n",
    "salary = int(input('Введите з/п в месяц '))\n",
    "payment = int(input('Введите сколько процентов уходит на ипотеку '))\n",
    "life = int(input('Введите сколько процентов уходит на жизнь '))\n",
    "bonus = int(input('Введите количество премий за год '))\n",
    "payment_year = round(salary * 12 * payment / 100,1)\n",
    "capital = round( salary * 12 * (1-life / 100) + salary * bonus * 0.5-payment_year,1)\n",
    "print ('На ипотеку было потрачено: ', payment_year,' руб. ','Было накоплено: ',capital,' руб. ')"
   ]
  },
  {
   "cell_type": "code",
   "execution_count": null,
   "metadata": {},
   "outputs": [],
   "source": []
  }
 ],
 "metadata": {
  "kernelspec": {
   "display_name": "Python 3",
   "language": "python",
   "name": "python3"
  },
  "language_info": {
   "codemirror_mode": {
    "name": "ipython",
    "version": 3
   },
   "file_extension": ".py",
   "mimetype": "text/x-python",
   "name": "python",
   "nbconvert_exporter": "python",
   "pygments_lexer": "ipython3",
   "version": "3.7.6"
  }
 },
 "nbformat": 4,
 "nbformat_minor": 4
}
