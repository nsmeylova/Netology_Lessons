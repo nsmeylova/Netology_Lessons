{
 "cells": [
  {
   "cell_type": "code",
   "execution_count": 2,
   "metadata": {},
   "outputs": [
    {
     "name": "stdout",
     "output_type": "stream",
     "text": [
      "Напишите слово weather\n",
      "t\n"
     ]
    }
   ],
   "source": [
    "#Задание 1\n",
    "\n",
    "word=input('Напишите слово ')\n",
    "middle=len(word) // 2\n",
    "if len(word) % 2 == 0:\n",
    "     print (word[middle - 1:middle + 1])\n",
    "else:\n",
    "     print (word[middle])"
   ]
  },
  {
   "cell_type": "code",
   "execution_count": 3,
   "metadata": {},
   "outputs": [
    {
     "name": "stdout",
     "output_type": "stream",
     "text": [
      "Alex и Emma\n",
      "Arthur и Kate\n",
      "John и Kira\n",
      "Peter и Liza\n",
      "Richard и Trisha\n"
     ]
    }
   ],
   "source": [
    "#Задание 2\n",
    "\n",
    "boys = ['Peter', 'Alex', 'John', 'Arthur','Richard']\n",
    "girls = ['Kate', 'Liza', 'Kira', 'Emma','Trisha']\n",
    "\n",
    "#Решение:\n",
    "\n",
    "boys_s=sorted (boys)\n",
    "girls_s=sorted(girls)\n",
    "couples=list(zip (boys_s,girls_s))\n",
    "if len(boys) == len(girls):\n",
    "     for name in couples:\n",
    "          print (f'{name[0]} и {name[1]}')\n",
    "else:\n",
    "     print('Кто-то может остаться без пары!')"
   ]
  },
  {
   "cell_type": "code",
   "execution_count": 4,
   "metadata": {},
   "outputs": [
    {
     "name": "stdout",
     "output_type": "stream",
     "text": [
      "Thailand 23.857142857142854\n",
      "Germany 13.714285714285708\n",
      "Russia 3.7142857142857166\n",
      "Poland 11.857142857142856\n"
     ]
    }
   ],
   "source": [
    "#Задание3\n",
    "\n",
    "countries_temperature = [\n",
    " ['Thailand', [75.2, 77, 78.8, 73.4, 68, 75.2, 77]],\n",
    " ['Germany', [57.2, 55.4, 59, 59, 53.6, 55.4, 57.2]],\n",
    " ['Russia', [35.6, 37.4, 39.2, 41, 42.8, 39.2, 35.6]],\n",
    " ['Poland', [50, 50, 53.6, 57.2, 55.4, 55.4, 51.8]],\n",
    "]\n",
    "\n",
    "#Решение:\n",
    "\n",
    "for country in countries_temperature:\n",
    "     print(country[0], (sum(country[1]) / len(country[1]) - 32) / 1.8)"
   ]
  },
  {
   "cell_type": "code",
   "execution_count": 5,
   "metadata": {},
   "outputs": [
    {
     "name": "stdout",
     "output_type": "stream",
     "text": [
      "кол-во уникальных пользователей 4\n",
      "сумма просмотров 93\n",
      "cреднее значение просмотров на пользователя 23.25\n"
     ]
    }
   ],
   "source": [
    "#Задание4\n",
    "\n",
    "stream = [\n",
    "    '2018-01-01,user1,3',\n",
    "    '2018-01-07,user1,4',\n",
    "    '2018-03-29,user1,1',\n",
    "    '2018-04-04,user1,13',\n",
    "    '2018-01-05,user2,7',\n",
    "    '2018-06-14,user3,4',\n",
    "    '2018-07-02,user3,10',\n",
    "    '2018-03-21,user4,19',\n",
    "    '2018-03-22,user4,4',\n",
    "    '2018-04-22,user4,8',\n",
    "    '2018-05-03,user4,9',\n",
    "    '2018-05-11,user4,11',\n",
    "]\n",
    "\n",
    "#Решение:\n",
    "\n",
    "user_start = list((stream[0]).split(','))[1]\n",
    "Q = 1\n",
    "S = 0\n",
    "\n",
    "for data in stream:\n",
    "   data_2 = list(data.split(','))\n",
    "   S+= int(data_2[2])\n",
    "   if data_2[1] != user_start:\n",
    "       Q+= 1 \n",
    "       user_start = data_2[1] \n",
    "print (f'кол-во уникальных пользователей {Q}')\n",
    "print (f'сумма просмотров {S}')\n",
    "print (f'cреднее значение просмотров на пользователя {S / Q}')"
   ]
  },
  {
   "cell_type": "code",
   "execution_count": 6,
   "metadata": {},
   "outputs": [
    {
     "name": "stdout",
     "output_type": "stream",
     "text": [
      "дата 2018-01-02\n",
      "компания yandex\n",
      "249\n"
     ]
    }
   ],
   "source": [
    "#Задание 5\n",
    "\n",
    "stats = [\n",
    "    ['2018-01-01', 'google', 25],\n",
    "    ['2018-01-01', 'yandex', 65],\n",
    "    ['2018-01-01', 'market', 89],\n",
    "    ['2018-01-02', 'google', 574],\n",
    "    ['2018-01-02', 'yandex', 249],\n",
    "    ['2018-01-02', 'market', 994],\n",
    "    ['2018-01-03', 'google', 1843],\n",
    "    ['2018-01-03', 'yandex', 1327],\n",
    "    ['2018-01-03', 'market', 1764],\n",
    "]\n",
    "\n",
    "#Решение:\n",
    "\n",
    "t = input('дата ')\n",
    "z = input('компания ')\n",
    "for i in range (len(stats)):\n",
    "    \n",
    "    if stats[i][0] == t: #индекс для даты\n",
    "        if stats [i][1] == z: #индекс для компании\n",
    "             print (stats[i][2])\n",
    "             break\n",
    "else: \n",
    "     print('n/d')"
   ]
  },
  {
   "cell_type": "code",
   "execution_count": 23,
   "metadata": {},
   "outputs": [
    {
     "name": "stdout",
     "output_type": "stream",
     "text": [
      "103\n"
     ]
    }
   ],
   "source": [
    "#Задание 6\n",
    "\n",
    "data = [\n",
    "    [13, 25, 23, 34],\n",
    "    [45, 32, 44, 47],\n",
    "    [12, 33, 23, 95],\n",
    "    [13, 53, 34, 35]\n",
    "]\n",
    "\n",
    "#Решение:\n",
    "\n",
    "S = 0\n",
    "for i in range(len(data)):\n",
    "    S += data[i][i]\n",
    "print (S)  "
   ]
  },
  {
   "cell_type": "code",
   "execution_count": null,
   "metadata": {},
   "outputs": [],
   "source": []
  }
 ],
 "metadata": {
  "kernelspec": {
   "display_name": "Python 3",
   "language": "python",
   "name": "python3"
  },
  "language_info": {
   "codemirror_mode": {
    "name": "ipython",
    "version": 3
   },
   "file_extension": ".py",
   "mimetype": "text/x-python",
   "name": "python",
   "nbconvert_exporter": "python",
   "pygments_lexer": "ipython3",
   "version": "3.7.6"
  }
 },
 "nbformat": 4,
 "nbformat_minor": 4
}
